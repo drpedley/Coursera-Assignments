{
 "cells": [
  {
   "cell_type": "markdown",
   "id": "5cb836ee-dffd-483c-b80b-b4d9436368d2",
   "metadata": {},
   "source": [
    "# Data Science Tools and Ecosystem"
   ]
  },
  {
   "cell_type": "markdown",
   "id": "ab97e8d4-a5b6-4f89-ad3d-2bce1428526e",
   "metadata": {},
   "source": [
    "In this notebook, Data Science Tools and Ecosystem are summarized"
   ]
  },
  {
   "cell_type": "markdown",
   "id": "5d464cc5-c91a-4f7b-a290-48ebe83b5f32",
   "metadata": {},
   "source": [
    "+ Languages for Data Sciences\n",
    "+ Libraries for Data Sciences\n",
    "+ Tools for Data Sciences\n",
    "+ Using Python for Data Sciences"
   ]
  },
  {
   "cell_type": "markdown",
   "id": "8d19f5ec-5e31-4175-818b-d53c7dcc82e3",
   "metadata": {},
   "source": [
    "Some of the popular languages that Data Scientists use are: \n",
    "1. Python\n",
    "2. R\n",
    "3. SQL"
   ]
  },
  {
   "cell_type": "markdown",
   "id": "39781b11-b8e9-4061-9507-f39728102293",
   "metadata": {},
   "source": [
    "Some of the commonly used libraries used by Data Scientists include:\n",
    "1. pandas\n",
    "2. matplotlib\n",
    "3. scikitlearn\n",
    "4. SciPy"
   ]
  },
  {
   "cell_type": "markdown",
   "id": "58a5647c-9de2-4d3b-b65e-b7ae881ec78a",
   "metadata": {},
   "source": [
    "|Data Science Tools|\n",
    "-------------------\n",
    "|Anaconda|\n",
    "|Jupyterlite|\n",
    "|Googlecolab|"
   ]
  },
  {
   "cell_type": "markdown",
   "id": "24dfaaf5-8300-444f-9fbf-eb46c6492b17",
   "metadata": {},
   "source": [
    "### Below are a few examples of evaluating arithmetic expressions in Python. "
   ]
  },
  {
   "cell_type": "code",
   "execution_count": 1,
   "id": "8d13523c-f210-4913-916e-aa4564b184c5",
   "metadata": {
    "tags": []
   },
   "outputs": [
    {
     "data": {
      "text/plain": [
       "17"
      ]
     },
     "execution_count": 1,
     "metadata": {},
     "output_type": "execute_result"
    }
   ],
   "source": [
    "# This is a simple arithmetic expression to multiply then add integers. \n",
    "(3*4)+5"
   ]
  },
  {
   "cell_type": "code",
   "execution_count": 2,
   "id": "412d38fb-27ec-473e-86a6-25b5da25b3dc",
   "metadata": {
    "tags": []
   },
   "outputs": [
    {
     "data": {
      "text/plain": [
       "3.3333333333333335"
      ]
     },
     "execution_count": 2,
     "metadata": {},
     "output_type": "execute_result"
    }
   ],
   "source": [
    "#This will convert 200 minutes to hours by dividing by 60. \n",
    "200/60"
   ]
  },
  {
   "cell_type": "markdown",
   "id": "281f5c65-6943-4adc-9e46-28894d1f2918",
   "metadata": {},
   "source": [
    "## Author: Kathryn Pedley"
   ]
  },
  {
   "cell_type": "code",
   "execution_count": null,
   "id": "ae358235-b28a-494a-9a9b-67c0fa58e109",
   "metadata": {},
   "outputs": [],
   "source": []
  }
 ],
 "metadata": {
  "kernelspec": {
   "display_name": "Python 3 (ipykernel)",
   "language": "python",
   "name": "python3"
  },
  "language_info": {
   "codemirror_mode": {
    "name": "ipython",
    "version": 3
   },
   "file_extension": ".py",
   "mimetype": "text/x-python",
   "name": "python",
   "nbconvert_exporter": "python",
   "pygments_lexer": "ipython3",
   "version": "3.11.3"
  }
 },
 "nbformat": 4,
 "nbformat_minor": 5
}
